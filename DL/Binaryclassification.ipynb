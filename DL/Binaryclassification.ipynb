{
 "cells": [
  {
   "cell_type": "code",
   "execution_count": null,
   "metadata": {},
   "outputs": [],
   "source": [
    "#Binary classify- cation using Deep Neural Networks Example: Classify movie reviews into \n",
    "#positive\" reviews and \"negative\" revie-ws, just based on the text content of the reviews. Use IMDB dataset"
   ]
  },
  {
   "cell_type": "code",
   "execution_count": 1,
   "metadata": {
    "colab": {
     "base_uri": "https://localhost:8080/"
    },
    "executionInfo": {
     "elapsed": 19070,
     "status": "ok",
     "timestamp": 1712863314954,
     "user": {
      "displayName": "Anish Bhalerao",
      "userId": "11094621130512330600"
     },
     "user_tz": -330
    },
    "id": "UWMqZ-qOmzPv",
    "outputId": "cb9bdd23-9fa8-46e3-8f2f-fb204359d895"
   },
   "outputs": [
    {
     "name": "stdout",
     "output_type": "stream",
     "text": [
      "Downloading data from https://storage.googleapis.com/tensorflow/tf-keras-datasets/imdb.npz\n",
      "17464789/17464789 [==============================] - 0s 0us/step\n"
     ]
    }
   ],
   "source": [
    "from keras.datasets import imdb\n",
    "\n",
    "(train_data, train_labels), (test_data, test_labels) = imdb.load_data(num_words=10000)"
   ]
  },
  {
   "cell_type": "code",
   "execution_count": 2,
   "metadata": {
    "colab": {
     "base_uri": "https://localhost:8080/"
    },
    "executionInfo": {
     "elapsed": 418,
     "status": "ok",
     "timestamp": 1712863321181,
     "user": {
      "displayName": "Anish Bhalerao",
      "userId": "11094621130512330600"
     },
     "user_tz": -330
    },
    "id": "hD-zCvn2m5iU",
    "outputId": "5dc91c29-8233-4358-f504-bd291e925803",
    "scrolled": true,
    "tags": []
   },
   "outputs": [
    {
     "data": {
      "text/plain": [
       "[1,\n",
       " 14,\n",
       " 22,\n",
       " 16,\n",
       " 43,\n",
       " 530,\n",
       " 973,\n",
       " 1622,\n",
       " 1385,\n",
       " 65,\n",
       " 458,\n",
       " 4468,\n",
       " 66,\n",
       " 3941,\n",
       " 4,\n",
       " 173,\n",
       " 36,\n",
       " 256,\n",
       " 5,\n",
       " 25,\n",
       " 100,\n",
       " 43,\n",
       " 838,\n",
       " 112,\n",
       " 50,\n",
       " 670,\n",
       " 2,\n",
       " 9,\n",
       " 35,\n",
       " 480,\n",
       " 284,\n",
       " 5,\n",
       " 150,\n",
       " 4,\n",
       " 172,\n",
       " 112,\n",
       " 167,\n",
       " 2,\n",
       " 336,\n",
       " 385,\n",
       " 39,\n",
       " 4,\n",
       " 172,\n",
       " 4536,\n",
       " 1111,\n",
       " 17,\n",
       " 546,\n",
       " 38,\n",
       " 13,\n",
       " 447,\n",
       " 4,\n",
       " 192,\n",
       " 50,\n",
       " 16,\n",
       " 6,\n",
       " 147,\n",
       " 2025,\n",
       " 19,\n",
       " 14,\n",
       " 22,\n",
       " 4,\n",
       " 1920,\n",
       " 4613,\n",
       " 469,\n",
       " 4,\n",
       " 22,\n",
       " 71,\n",
       " 87,\n",
       " 12,\n",
       " 16,\n",
       " 43,\n",
       " 530,\n",
       " 38,\n",
       " 76,\n",
       " 15,\n",
       " 13,\n",
       " 1247,\n",
       " 4,\n",
       " 22,\n",
       " 17,\n",
       " 515,\n",
       " 17,\n",
       " 12,\n",
       " 16,\n",
       " 626,\n",
       " 18,\n",
       " 2,\n",
       " 5,\n",
       " 62,\n",
       " 386,\n",
       " 12,\n",
       " 8,\n",
       " 316,\n",
       " 8,\n",
       " 106,\n",
       " 5,\n",
       " 4,\n",
       " 2223,\n",
       " 5244,\n",
       " 16,\n",
       " 480,\n",
       " 66,\n",
       " 3785,\n",
       " 33,\n",
       " 4,\n",
       " 130,\n",
       " 12,\n",
       " 16,\n",
       " 38,\n",
       " 619,\n",
       " 5,\n",
       " 25,\n",
       " 124,\n",
       " 51,\n",
       " 36,\n",
       " 135,\n",
       " 48,\n",
       " 25,\n",
       " 1415,\n",
       " 33,\n",
       " 6,\n",
       " 22,\n",
       " 12,\n",
       " 215,\n",
       " 28,\n",
       " 77,\n",
       " 52,\n",
       " 5,\n",
       " 14,\n",
       " 407,\n",
       " 16,\n",
       " 82,\n",
       " 2,\n",
       " 8,\n",
       " 4,\n",
       " 107,\n",
       " 117,\n",
       " 5952,\n",
       " 15,\n",
       " 256,\n",
       " 4,\n",
       " 2,\n",
       " 7,\n",
       " 3766,\n",
       " 5,\n",
       " 723,\n",
       " 36,\n",
       " 71,\n",
       " 43,\n",
       " 530,\n",
       " 476,\n",
       " 26,\n",
       " 400,\n",
       " 317,\n",
       " 46,\n",
       " 7,\n",
       " 4,\n",
       " 2,\n",
       " 1029,\n",
       " 13,\n",
       " 104,\n",
       " 88,\n",
       " 4,\n",
       " 381,\n",
       " 15,\n",
       " 297,\n",
       " 98,\n",
       " 32,\n",
       " 2071,\n",
       " 56,\n",
       " 26,\n",
       " 141,\n",
       " 6,\n",
       " 194,\n",
       " 7486,\n",
       " 18,\n",
       " 4,\n",
       " 226,\n",
       " 22,\n",
       " 21,\n",
       " 134,\n",
       " 476,\n",
       " 26,\n",
       " 480,\n",
       " 5,\n",
       " 144,\n",
       " 30,\n",
       " 5535,\n",
       " 18,\n",
       " 51,\n",
       " 36,\n",
       " 28,\n",
       " 224,\n",
       " 92,\n",
       " 25,\n",
       " 104,\n",
       " 4,\n",
       " 226,\n",
       " 65,\n",
       " 16,\n",
       " 38,\n",
       " 1334,\n",
       " 88,\n",
       " 12,\n",
       " 16,\n",
       " 283,\n",
       " 5,\n",
       " 16,\n",
       " 4472,\n",
       " 113,\n",
       " 103,\n",
       " 32,\n",
       " 15,\n",
       " 16,\n",
       " 5345,\n",
       " 19,\n",
       " 178,\n",
       " 32]"
      ]
     },
     "execution_count": 2,
     "metadata": {},
     "output_type": "execute_result"
    }
   ],
   "source": [
    "train_data[0]\n"
   ]
  },
  {
   "cell_type": "code",
   "execution_count": 4,
   "metadata": {
    "colab": {
     "base_uri": "https://localhost:8080/"
    },
    "executionInfo": {
     "elapsed": 368,
     "status": "ok",
     "timestamp": 1712863453865,
     "user": {
      "displayName": "Anish Bhalerao",
      "userId": "11094621130512330600"
     },
     "user_tz": -330
    },
    "id": "0cxYUzPNnBZ4",
    "outputId": "b5bc5aed-690f-46bf-e948-046f19842fc4"
   },
   "outputs": [
    {
     "data": {
      "text/plain": [
       "1"
      ]
     },
     "execution_count": 4,
     "metadata": {},
     "output_type": "execute_result"
    }
   ],
   "source": [
    "train_labels[0]"
   ]
  },
  {
   "cell_type": "code",
   "execution_count": 5,
   "metadata": {
    "colab": {
     "base_uri": "https://localhost:8080/"
    },
    "executionInfo": {
     "elapsed": 2,
     "status": "ok",
     "timestamp": 1712863455677,
     "user": {
      "displayName": "Anish Bhalerao",
      "userId": "11094621130512330600"
     },
     "user_tz": -330
    },
    "id": "hfV2U5WunBuz",
    "outputId": "56a67f8f-a0b9-40b4-802c-4653655de5d7"
   },
   "outputs": [
    {
     "data": {
      "text/plain": [
       "9999"
      ]
     },
     "execution_count": 5,
     "metadata": {},
     "output_type": "execute_result"
    }
   ],
   "source": [
    "max([max(sequence) for sequence in train_data])"
   ]
  },
  {
   "cell_type": "code",
   "execution_count": 6,
   "metadata": {
    "colab": {
     "base_uri": "https://localhost:8080/"
    },
    "executionInfo": {
     "elapsed": 651,
     "status": "ok",
     "timestamp": 1712863458150,
     "user": {
      "displayName": "Anish Bhalerao",
      "userId": "11094621130512330600"
     },
     "user_tz": -330
    },
    "id": "CDXvdyU4nBwx",
    "outputId": "a06671f4-8560-4f26-dc05-a587827706e0"
   },
   "outputs": [
    {
     "name": "stdout",
     "output_type": "stream",
     "text": [
      "Downloading data from https://storage.googleapis.com/tensorflow/tf-keras-datasets/imdb_word_index.json\n",
      "1641221/1641221 [==============================] - 0s 0us/step\n"
     ]
    }
   ],
   "source": [
    "# word_index is a dictionary mapping words to an integer index\n",
    "word_index = imdb.get_word_index()\n",
    "# We reverse it, mapping integer indices to words\n",
    "reverse_word_index = dict([(value, key) for (key, value) in word_index.items()])\n",
    "# We decode the review; note that our indices were offset by 3\n",
    "# because 0, 1 and 2 are reserved indices for \"padding\", \"start of sequence\", and \"unknown\".\n",
    "decoded_review = ' '.join([reverse_word_index.get(i - 3, '?') for i in train_data[0]])"
   ]
  },
  {
   "cell_type": "code",
   "execution_count": 7,
   "metadata": {
    "colab": {
     "base_uri": "https://localhost:8080/",
     "height": 105
    },
    "executionInfo": {
     "elapsed": 4,
     "status": "ok",
     "timestamp": 1712863460099,
     "user": {
      "displayName": "Anish Bhalerao",
      "userId": "11094621130512330600"
     },
     "user_tz": -330
    },
    "id": "Wb2Bls81nBzb",
    "outputId": "e69d66c2-1a9d-4003-b161-722c521be4f5"
   },
   "outputs": [
    {
     "data": {
      "application/vnd.google.colaboratory.intrinsic+json": {
       "type": "string"
      },
      "text/plain": [
       "\"? this film was just brilliant casting location scenery story direction everyone's really suited the part they played and you could just imagine being there robert ? is an amazing actor and now the same being director ? father came from the same scottish island as myself so i loved the fact there was a real connection with this film the witty remarks throughout the film were great it was just brilliant so much that i bought the film as soon as it was released for ? and would recommend it to everyone to watch and the fly fishing was amazing really cried at the end it was so sad and you know what they say if you cry at a film it must have been good and this definitely was also ? to the two little boy's that played the ? of norman and paul they were just brilliant children are often left out of the ? list i think because the stars that play them all grown up are such a big profile for the whole film but these children are amazing and should be praised for what they have done don't you think the whole story was so lovely because it was true and was someone's life after all that was shared with us all\""
      ]
     },
     "execution_count": 7,
     "metadata": {},
     "output_type": "execute_result"
    }
   ],
   "source": [
    "decoded_review"
   ]
  },
  {
   "cell_type": "code",
   "execution_count": 8,
   "metadata": {
    "executionInfo": {
     "elapsed": 4256,
     "status": "ok",
     "timestamp": 1712863466693,
     "user": {
      "displayName": "Anish Bhalerao",
      "userId": "11094621130512330600"
     },
     "user_tz": -330
    },
    "id": "IU__v66WnB1s"
   },
   "outputs": [],
   "source": [
    "import numpy as np\n",
    "\n",
    "def vectorize_sequences(sequences, dimension=10000):\n",
    "    # Create an all-zero matrix of shape (len(sequences), dimension)\n",
    "    results = np.zeros((len(sequences), dimension))\n",
    "    for i, sequence in enumerate(sequences):\n",
    "        results[i, sequence] = 1.  # set specific indices of results[i] to 1s\n",
    "    return results\n",
    "\n",
    "# Our vectorized training data\n",
    "x_train = vectorize_sequences(train_data)\n",
    "# Our vectorized test data\n",
    "x_test = vectorize_sequences(test_data)"
   ]
  },
  {
   "cell_type": "code",
   "execution_count": 9,
   "metadata": {
    "colab": {
     "base_uri": "https://localhost:8080/"
    },
    "executionInfo": {
     "elapsed": 392,
     "status": "ok",
     "timestamp": 1712863469978,
     "user": {
      "displayName": "Anish Bhalerao",
      "userId": "11094621130512330600"
     },
     "user_tz": -330
    },
    "id": "pIluP0KBnB4S",
    "outputId": "5ad39029-dc97-4ae5-b091-a1867aa2fe0b"
   },
   "outputs": [
    {
     "data": {
      "text/plain": [
       "array([0., 1., 1., ..., 0., 0., 0.])"
      ]
     },
     "execution_count": 9,
     "metadata": {},
     "output_type": "execute_result"
    }
   ],
   "source": [
    "x_train[0]"
   ]
  },
  {
   "cell_type": "code",
   "execution_count": 10,
   "metadata": {
    "executionInfo": {
     "elapsed": 1,
     "status": "ok",
     "timestamp": 1712863471314,
     "user": {
      "displayName": "Anish Bhalerao",
      "userId": "11094621130512330600"
     },
     "user_tz": -330
    },
    "id": "NA0XFzA2nB7B"
   },
   "outputs": [],
   "source": [
    "# Our vectorized labels\n",
    "y_train = np.asarray(train_labels).astype('float32')\n",
    "y_test = np.asarray(test_labels).astype('float32')"
   ]
  },
  {
   "cell_type": "code",
   "execution_count": 11,
   "metadata": {
    "executionInfo": {
     "elapsed": 2,
     "status": "ok",
     "timestamp": 1712863472912,
     "user": {
      "displayName": "Anish Bhalerao",
      "userId": "11094621130512330600"
     },
     "user_tz": -330
    },
    "id": "XSskNmhBnB9a"
   },
   "outputs": [],
   "source": [
    "from keras import models\n",
    "from keras import layers\n",
    "\n",
    "model = models.Sequential()\n",
    "model.add(layers.Dense(16, activation='relu', input_shape=(10000,)))\n",
    "model.add(layers.Dense(16, activation='relu'))\n",
    "model.add(layers.Dense(1, activation='sigmoid'))"
   ]
  },
  {
   "cell_type": "code",
   "execution_count": 12,
   "metadata": {
    "executionInfo": {
     "elapsed": 2,
     "status": "ok",
     "timestamp": 1712863474209,
     "user": {
      "displayName": "Anish Bhalerao",
      "userId": "11094621130512330600"
     },
     "user_tz": -330
    },
    "id": "zOoNrBHenB_y"
   },
   "outputs": [],
   "source": [
    "model.compile(optimizer='rmsprop',\n",
    "              loss='binary_crossentropy',\n",
    "              metrics=['accuracy'])"
   ]
  },
  {
   "cell_type": "code",
   "execution_count": 13,
   "metadata": {
    "colab": {
     "base_uri": "https://localhost:8080/"
    },
    "executionInfo": {
     "elapsed": 2,
     "status": "ok",
     "timestamp": 1712863476342,
     "user": {
      "displayName": "Anish Bhalerao",
      "userId": "11094621130512330600"
     },
     "user_tz": -330
    },
    "id": "m-xB4BRYnCCa",
    "outputId": "d618f86e-4002-481f-ee44-f94b7fe6dee5"
   },
   "outputs": [
    {
     "name": "stderr",
     "output_type": "stream",
     "text": [
      "WARNING:absl:`lr` is deprecated in Keras optimizer, please use `learning_rate` or use the legacy optimizer, e.g.,tf.keras.optimizers.legacy.RMSprop.\n"
     ]
    }
   ],
   "source": [
    "from keras import optimizers\n",
    "\n",
    "model.compile(optimizer=optimizers.RMSprop(lr=0.001),\n",
    "              loss='binary_crossentropy',\n",
    "              metrics=['accuracy'])"
   ]
  },
  {
   "cell_type": "code",
   "execution_count": 14,
   "metadata": {
    "colab": {
     "base_uri": "https://localhost:8080/"
    },
    "executionInfo": {
     "elapsed": 3,
     "status": "ok",
     "timestamp": 1712863477935,
     "user": {
      "displayName": "Anish Bhalerao",
      "userId": "11094621130512330600"
     },
     "user_tz": -330
    },
    "id": "GLqJ_KpznRJq",
    "outputId": "95a1fbf4-96a9-40e1-d513-497a30e8151b"
   },
   "outputs": [
    {
     "name": "stderr",
     "output_type": "stream",
     "text": [
      "WARNING:absl:`lr` is deprecated in Keras optimizer, please use `learning_rate` or use the legacy optimizer, e.g.,tf.keras.optimizers.legacy.RMSprop.\n"
     ]
    }
   ],
   "source": [
    "from keras import losses\n",
    "from keras import metrics\n",
    "\n",
    "model.compile(optimizer=optimizers.RMSprop(lr=0.001),\n",
    "              loss=losses.binary_crossentropy,\n",
    "              metrics=[metrics.binary_accuracy])"
   ]
  },
  {
   "cell_type": "code",
   "execution_count": 15,
   "metadata": {
    "executionInfo": {
     "elapsed": 1,
     "status": "ok",
     "timestamp": 1712863479955,
     "user": {
      "displayName": "Anish Bhalerao",
      "userId": "11094621130512330600"
     },
     "user_tz": -330
    },
    "id": "FdK4Zyq2nRMS"
   },
   "outputs": [],
   "source": [
    "x_val = x_train[:10000]\n",
    "partial_x_train = x_train[10000:]\n",
    "\n",
    "y_val = y_train[:10000]\n",
    "partial_y_train = y_train[10000:]"
   ]
  },
  {
   "cell_type": "code",
   "execution_count": 16,
   "metadata": {
    "colab": {
     "base_uri": "https://localhost:8080/"
    },
    "executionInfo": {
     "elapsed": 23061,
     "status": "ok",
     "timestamp": 1712863505181,
     "user": {
      "displayName": "Anish Bhalerao",
      "userId": "11094621130512330600"
     },
     "user_tz": -330
    },
    "id": "k_xt9NDEnRO6",
    "outputId": "9835e457-e27c-4a9b-ddbd-d7bd99f3afc2"
   },
   "outputs": [
    {
     "name": "stdout",
     "output_type": "stream",
     "text": [
      "Epoch 1/10\n",
      "30/30 [==============================] - 4s 108ms/step - loss: 0.5588 - binary_accuracy: 0.7749 - val_loss: 0.4290 - val_binary_accuracy: 0.8593\n",
      "Epoch 2/10\n",
      "30/30 [==============================] - 2s 64ms/step - loss: 0.3537 - binary_accuracy: 0.8855 - val_loss: 0.3277 - val_binary_accuracy: 0.8798\n",
      "Epoch 3/10\n",
      "30/30 [==============================] - 1s 44ms/step - loss: 0.2593 - binary_accuracy: 0.9102 - val_loss: 0.2994 - val_binary_accuracy: 0.8777\n",
      "Epoch 4/10\n",
      "30/30 [==============================] - 2s 51ms/step - loss: 0.2096 - binary_accuracy: 0.9270 - val_loss: 0.2756 - val_binary_accuracy: 0.8908\n",
      "Epoch 5/10\n",
      "30/30 [==============================] - 2s 52ms/step - loss: 0.1758 - binary_accuracy: 0.9395 - val_loss: 0.2899 - val_binary_accuracy: 0.8829\n",
      "Epoch 6/10\n",
      "30/30 [==============================] - 2s 52ms/step - loss: 0.1490 - binary_accuracy: 0.9509 - val_loss: 0.2807 - val_binary_accuracy: 0.8882\n",
      "Epoch 7/10\n",
      "30/30 [==============================] - 1s 42ms/step - loss: 0.1323 - binary_accuracy: 0.9560 - val_loss: 0.2938 - val_binary_accuracy: 0.8857\n",
      "Epoch 8/10\n",
      "30/30 [==============================] - 1s 41ms/step - loss: 0.1139 - binary_accuracy: 0.9644 - val_loss: 0.3033 - val_binary_accuracy: 0.8844\n",
      "Epoch 9/10\n",
      "30/30 [==============================] - 2s 51ms/step - loss: 0.0968 - binary_accuracy: 0.9712 - val_loss: 0.3575 - val_binary_accuracy: 0.8727\n",
      "Epoch 10/10\n",
      "30/30 [==============================] - 2s 60ms/step - loss: 0.0869 - binary_accuracy: 0.9731 - val_loss: 0.3352 - val_binary_accuracy: 0.8834\n"
     ]
    }
   ],
   "source": [
    "history = model.fit(partial_x_train,\n",
    "                    partial_y_train,\n",
    "                    epochs=10,\n",
    "                    batch_size=512,\n",
    "                    validation_data=(x_val, y_val))"
   ]
  },
  {
   "cell_type": "code",
   "execution_count": 17,
   "metadata": {
    "colab": {
     "base_uri": "https://localhost:8080/"
    },
    "executionInfo": {
     "elapsed": 2,
     "status": "ok",
     "timestamp": 1712863506965,
     "user": {
      "displayName": "Anish Bhalerao",
      "userId": "11094621130512330600"
     },
     "user_tz": -330
    },
    "id": "0f5k1cnWnRRa",
    "outputId": "8711e413-6a1d-4a55-85e5-2566e5f25cb8"
   },
   "outputs": [
    {
     "data": {
      "text/plain": [
       "dict_keys(['loss', 'binary_accuracy', 'val_loss', 'val_binary_accuracy'])"
      ]
     },
     "execution_count": 17,
     "metadata": {},
     "output_type": "execute_result"
    }
   ],
   "source": [
    "history_dict = history.history\n",
    "history_dict.keys()"
   ]
  },
  {
   "cell_type": "code",
   "execution_count": 20,
   "metadata": {
    "colab": {
     "base_uri": "https://localhost:8080/",
     "height": 472
    },
    "executionInfo": {
     "elapsed": 792,
     "status": "ok",
     "timestamp": 1712863681994,
     "user": {
      "displayName": "Anish Bhalerao",
      "userId": "11094621130512330600"
     },
     "user_tz": -330
    },
    "id": "5qRSeoWenRUD",
    "outputId": "bb32dc3c-1286-431b-b1c1-922f6b0ab650"
   },
   "outputs": [
    {
     "data": {
      "image/png": "[encoded data removed]",
      "text/plain": [
       "<Figure size 640x480 with 1 Axes>"
      ]
     },
     "metadata": {},
     "output_type": "display_data"
    }
   ],
   "source": [
    "import matplotlib.pyplot as plt\n",
    "\n",
    "binary_accuracy = history.history['binary_accuracy']\n",
    "binary_accuracy = history.history['binary_accuracy']\n",
    "loss = history.history['loss']\n",
    "val_loss = history.history['val_loss']\n",
    "\n",
    "epochs = range(1, len(binary_accuracy) + 1)\n",
    "\n",
    "# \"bo\" is for \"blue dot\"\n",
    "plt.plot(epochs, loss, 'bo', label='Training loss')\n",
    "# b is for \"solid blue line\"\n",
    "plt.plot(epochs, val_loss, 'b', label='Validation loss')\n",
    "plt.title('Training and validation loss')\n",
    "plt.xlabel('Epochs')\n",
    "plt.ylabel('Loss')\n",
    "plt.legend()\n",
    "\n",
    "plt.show()"
   ]
  },
  {
   "cell_type": "code",
   "execution_count": 21,
   "metadata": {
    "colab": {
     "base_uri": "https://localhost:8080/",
     "height": 472
    },
    "executionInfo": {
     "elapsed": 7,
     "status": "ok",
     "timestamp": 1712863750111,
     "user": {
      "displayName": "Anish Bhalerao",
      "userId": "11094621130512330600"
     },
     "user_tz": -330
    },
    "id": "qZ7L9vVsnbzH",
    "outputId": "26d13ac7-4251-4f50-b67b-e200efc08169"
   },
   "outputs": [
    {
     "data": {
      "image/png": "[encoded data removed]",
      "text/plain": [
       "<Figure size 640x480 with 1 Axes>"
      ]
     },
     "metadata": {},
     "output_type": "display_data"
    }
   ],
   "source": [
    "plt.clf()   # clear figure\n",
    "binary_accuracy = history_dict['binary_accuracy']\n",
    "binary_accuracy_values = history_dict['binary_accuracy']\n",
    "\n",
    "plt.plot(epochs, binary_accuracy, 'bo', label='Training binary_accuracy')\n",
    "plt.plot(epochs, binary_accuracy, 'b', label='Validation binary_accuracy')\n",
    "plt.title('Training and validation accuracy')\n",
    "plt.xlabel('Epochs')\n",
    "plt.ylabel('Loss')\n",
    "plt.legend()\n",
    "\n",
    "plt.show()"
   ]
  },
  {
   "cell_type": "code",
   "execution_count": 22,
   "metadata": {
    "colab": {
     "base_uri": "https://localhost:8080/"
    },
    "executionInfo": {
     "elapsed": 21633,
     "status": "ok",
     "timestamp": 1712863782379,
     "user": {
      "displayName": "Anish Bhalerao",
      "userId": "11094621130512330600"
     },
     "user_tz": -330
    },
    "id": "JylPh52-nb1w",
    "outputId": "c5f98375-13a3-48c8-ab28-189ce0dabd63"
   },
   "outputs": [
    {
     "name": "stdout",
     "output_type": "stream",
     "text": [
      "Epoch 1/4\n",
      "49/49 [==============================] - 2s 30ms/step - loss: 0.4607 - accuracy: 0.8068\n",
      "Epoch 2/4\n",
      "49/49 [==============================] - 1s 25ms/step - loss: 0.2687 - accuracy: 0.9072\n",
      "Epoch 3/4\n",
      "49/49 [==============================] - 2s 34ms/step - loss: 0.2090 - accuracy: 0.9262\n",
      "Epoch 4/4\n",
      "49/49 [==============================] - 2s 35ms/step - loss: 0.1794 - accuracy: 0.9357\n",
      "782/782 [==============================] - 2s 3ms/step - loss: 0.2945 - accuracy: 0.8817\n"
     ]
    }
   ],
   "source": [
    "model = models.Sequential()\n",
    "model.add(layers.Dense(16, activation='relu', input_shape=(10000,)))\n",
    "model.add(layers.Dense(16, activation='relu'))\n",
    "model.add(layers.Dense(1, activation='sigmoid'))\n",
    "\n",
    "model.compile(optimizer='rmsprop',\n",
    "              loss='binary_crossentropy',\n",
    "              metrics=['accuracy'])\n",
    "\n",
    "model.fit(x_train, y_train, epochs=4, batch_size=512)\n",
    "results = model.evaluate(x_test, y_test)"
   ]
  },
  {
   "cell_type": "code",
   "execution_count": 23,
   "metadata": {
    "colab": {
     "base_uri": "https://localhost:8080/"
    },
    "executionInfo": {
     "elapsed": 549,
     "status": "ok",
     "timestamp": 1712863786630,
     "user": {
      "displayName": "Anish Bhalerao",
      "userId": "11094621130512330600"
     },
     "user_tz": -330
    },
    "id": "G5J9zEl1nb4I",
    "outputId": "a320ed9d-f0e1-4e93-9f5a-70013c3141f6"
   },
   "outputs": [
    {
     "data": {
      "text/plain": [
       "[0.2945336699485779, 0.8817200064659119]"
      ]
     },
     "execution_count": 23,
     "metadata": {},
     "output_type": "execute_result"
    }
   ],
   "source": [
    "results"
   ]
  },
  {
   "cell_type": "code",
   "execution_count": 24,
   "metadata": {
    "colab": {
     "base_uri": "https://localhost:8080/"
    },
    "executionInfo": {
     "elapsed": 9750,
     "status": "ok",
     "timestamp": 1712863798987,
     "user": {
      "displayName": "Anish Bhalerao",
      "userId": "11094621130512330600"
     },
     "user_tz": -330
    },
    "id": "E4gaKT-Znb6n",
    "outputId": "1cd01ec3-4bdf-45ca-98c3-9e232fd8f64d"
   },
   "outputs": [
    {
     "name": "stdout",
     "output_type": "stream",
     "text": [
      "782/782 [==============================] - 3s 4ms/step\n"
     ]
    },
    {
     "data": {
      "text/plain": [
       "array([[0.1710468 ],\n",
       "       [0.9987386 ],\n",
       "       [0.64596564],\n",
       "       ...,\n",
       "       [0.11614186],\n",
       "       [0.05468448],\n",
       "       [0.47899702]], dtype=float32)"
      ]
     },
     "execution_count": 24,
     "metadata": {},
     "output_type": "execute_result"
    }
   ],
   "source": [
    "model.predict(x_test)"
   ]
  },
  {
   "cell_type": "code",
   "execution_count": null,
   "metadata": {
    "id": "lGZzvgt1oz4s"
   },
   "outputs": [],
   "source": []
  }
 ],
 "metadata": {
  "colab": {
   "authorship_tag": "ABX9TyPsfMFKIxGhGlMIUMDy9Qho",
   "provenance": []
  },
  "kernelspec": {
   "display_name": "Python 3 (ipykernel)",
   "language": "python",
   "name": "python3"
  },
  "language_info": {
   "codemirror_mode": {
    "name": "ipython",
    "version": 3
   },
   "file_extension": ".py",
   "mimetype": "text/x-python",
   "name": "python",
   "nbconvert_exporter": "python",
   "pygments_lexer": "ipython3",
   "version": "3.11.5"
  }
 },
 "nbformat": 4,
 "nbformat_minor": 4
}
